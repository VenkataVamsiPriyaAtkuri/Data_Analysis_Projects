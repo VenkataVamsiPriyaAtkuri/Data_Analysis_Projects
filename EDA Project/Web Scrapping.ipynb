{
 "cells": [
  {
   "cell_type": "code",
   "execution_count": 1,
   "id": "39b5f46f",
   "metadata": {},
   "outputs": [],
   "source": [
    "import requests\n",
    "from bs4 import BeautifulSoup"
   ]
  },
  {
   "cell_type": "code",
   "execution_count": 2,
   "id": "d4b9c778",
   "metadata": {},
   "outputs": [],
   "source": [
    "import numpy as np\n",
    "import pandas as pd\n",
    "import re"
   ]
  },
  {
   "cell_type": "code",
   "execution_count": 3,
   "id": "c49d30bd",
   "metadata": {
    "scrolled": true
   },
   "outputs": [
    {
     "name": "stdout",
     "output_type": "stream",
     "text": [
      "<Response [429]>\n",
      "https://www.flipkart.com/search?q=smartwatch&sid=ajy%2Cbuh&as=on&as-show=on&otracker=AS_QueryStore_OrganicAutoSuggest_2_8_na_na_na&otracker1=AS_QueryStore_OrganicAutoSuggest_2_8_na_na_na&as-pos=2&as-type=HISTORY&suggestionId=smartwatch%7CSmart+Watches&requestId=0d0810b6-0413-449a-bf26-d54d847d4d52\n",
      "<Response [429]>\n",
      "https://www.flipkart.com/search?q=smartwatch&sid=ajy%2Cbuh&as=on&as-show=on&otracker=AS_QueryStore_OrganicAutoSuggest_2_8_na_na_na&otracker1=AS_QueryStore_OrganicAutoSuggest_2_8_na_na_na&as-pos=2&as-type=HISTORY&suggestionId=smartwatch%7CSmart+Watches&requestId=0d0810b6-0413-449a-bf26-d54d847d4d52\n",
      "<Response [200]>\n",
      "https://www.flipkart.com/search?q=smartwatch&sid=ajy%2Cbuh&as=on&as-show=on&otracker=AS_QueryStore_OrganicAutoSuggest_2_8_na_na_na&otracker1=AS_QueryStore_OrganicAutoSuggest_2_8_na_na_na&as-pos=2&as-type=HISTORY&suggestionId=smartwatch%7CSmart+Watches&requestId=0d0810b6-0413-449a-bf26-d54d847d4d52\n",
      "<Response [200]>\n",
      "https://www.flipkart.com/search?q=smartwatch&sid=ajy%2Cbuh&as=on&as-show=on&otracker=AS_QueryStore_OrganicAutoSuggest_2_8_na_na_na&otracker1=AS_QueryStore_OrganicAutoSuggest_2_8_na_na_na&as-pos=2&as-type=HISTORY&suggestionId=smartwatch%7CSmart+Watches&requestId=0d0810b6-0413-449a-bf26-d54d847d4d52\n",
      "<Response [200]>\n",
      "https://www.flipkart.com/search?q=smartwatch&sid=ajy%2Cbuh&as=on&as-show=on&otracker=AS_QueryStore_OrganicAutoSuggest_2_8_na_na_na&otracker1=AS_QueryStore_OrganicAutoSuggest_2_8_na_na_na&as-pos=2&as-type=HISTORY&suggestionId=smartwatch%7CSmart+Watches&requestId=0d0810b6-0413-449a-bf26-d54d847d4d52\n",
      "<Response [200]>\n",
      "https://www.flipkart.com/search?q=smartwatch&sid=ajy%2Cbuh&as=on&as-show=on&otracker=AS_QueryStore_OrganicAutoSuggest_2_8_na_na_na&otracker1=AS_QueryStore_OrganicAutoSuggest_2_8_na_na_na&as-pos=2&as-type=HISTORY&suggestionId=smartwatch%7CSmart+Watches&requestId=0d0810b6-0413-449a-bf26-d54d847d4d52\n",
      "<Response [200]>\n",
      "https://www.flipkart.com/search?q=smartwatch&sid=ajy%2Cbuh&as=on&as-show=on&otracker=AS_QueryStore_OrganicAutoSuggest_2_8_na_na_na&otracker1=AS_QueryStore_OrganicAutoSuggest_2_8_na_na_na&as-pos=2&as-type=HISTORY&suggestionId=smartwatch%7CSmart+Watches&requestId=0d0810b6-0413-449a-bf26-d54d847d4d52\n",
      "<Response [429]>\n",
      "https://www.flipkart.com/search?q=smartwatch&sid=ajy%2Cbuh&as=on&as-show=on&otracker=AS_QueryStore_OrganicAutoSuggest_2_8_na_na_na&otracker1=AS_QueryStore_OrganicAutoSuggest_2_8_na_na_na&as-pos=2&as-type=HISTORY&suggestionId=smartwatch%7CSmart+Watches&requestId=0d0810b6-0413-449a-bf26-d54d847d4d52\n",
      "<Response [200]>\n",
      "https://www.flipkart.com/search?q=smartwatch&sid=ajy%2Cbuh&as=on&as-show=on&otracker=AS_QueryStore_OrganicAutoSuggest_2_8_na_na_na&otracker1=AS_QueryStore_OrganicAutoSuggest_2_8_na_na_na&as-pos=2&as-type=HISTORY&suggestionId=smartwatch%7CSmart+Watches&requestId=0d0810b6-0413-449a-bf26-d54d847d4d52\n",
      "<Response [200]>\n",
      "https://www.flipkart.com/search?q=smartwatch&sid=ajy%2Cbuh&as=on&as-show=on&otracker=AS_QueryStore_OrganicAutoSuggest_2_8_na_na_na&otracker1=AS_QueryStore_OrganicAutoSuggest_2_8_na_na_na&as-pos=2&as-type=HISTORY&suggestionId=smartwatch%7CSmart+Watches&requestId=0d0810b6-0413-449a-bf26-d54d847d4d52\n",
      "<Response [200]>\n",
      "https://www.flipkart.com/search?q=smartwatch&sid=ajy%2Cbuh&as=on&as-show=on&otracker=AS_QueryStore_OrganicAutoSuggest_2_8_na_na_na&otracker1=AS_QueryStore_OrganicAutoSuggest_2_8_na_na_na&as-pos=2&as-type=HISTORY&suggestionId=smartwatch%7CSmart+Watches&requestId=0d0810b6-0413-449a-bf26-d54d847d4d52\n",
      "<Response [200]>\n",
      "https://www.flipkart.com/search?q=smartwatch&sid=ajy%2Cbuh&as=on&as-show=on&otracker=AS_QueryStore_OrganicAutoSuggest_2_8_na_na_na&otracker1=AS_QueryStore_OrganicAutoSuggest_2_8_na_na_na&as-pos=2&as-type=HISTORY&suggestionId=smartwatch%7CSmart+Watches&requestId=0d0810b6-0413-449a-bf26-d54d847d4d52\n",
      "<Response [200]>\n",
      "https://www.flipkart.com/search?q=smartwatch&sid=ajy%2Cbuh&as=on&as-show=on&otracker=AS_QueryStore_OrganicAutoSuggest_2_8_na_na_na&otracker1=AS_QueryStore_OrganicAutoSuggest_2_8_na_na_na&as-pos=2&as-type=HISTORY&suggestionId=smartwatch%7CSmart+Watches&requestId=0d0810b6-0413-449a-bf26-d54d847d4d52\n",
      "<Response [200]>\n",
      "https://www.flipkart.com/search?q=smartwatch&sid=ajy%2Cbuh&as=on&as-show=on&otracker=AS_QueryStore_OrganicAutoSuggest_2_8_na_na_na&otracker1=AS_QueryStore_OrganicAutoSuggest_2_8_na_na_na&as-pos=2&as-type=HISTORY&suggestionId=smartwatch%7CSmart+Watches&requestId=0d0810b6-0413-449a-bf26-d54d847d4d52\n",
      "<Response [200]>\n",
      "https://www.flipkart.com/search?q=smartwatch&sid=ajy%2Cbuh&as=on&as-show=on&otracker=AS_QueryStore_OrganicAutoSuggest_2_8_na_na_na&otracker1=AS_QueryStore_OrganicAutoSuggest_2_8_na_na_na&as-pos=2&as-type=HISTORY&suggestionId=smartwatch%7CSmart+Watches&requestId=0d0810b6-0413-449a-bf26-d54d847d4d52\n",
      "<Response [200]>\n",
      "https://www.flipkart.com/search?q=smartwatch&sid=ajy%2Cbuh&as=on&as-show=on&otracker=AS_QueryStore_OrganicAutoSuggest_2_8_na_na_na&otracker1=AS_QueryStore_OrganicAutoSuggest_2_8_na_na_na&as-pos=2&as-type=HISTORY&suggestionId=smartwatch%7CSmart+Watches&requestId=0d0810b6-0413-449a-bf26-d54d847d4d52\n",
      "<Response [200]>\n",
      "https://www.flipkart.com/search?q=smartwatch&sid=ajy%2Cbuh&as=on&as-show=on&otracker=AS_QueryStore_OrganicAutoSuggest_2_8_na_na_na&otracker1=AS_QueryStore_OrganicAutoSuggest_2_8_na_na_na&as-pos=2&as-type=HISTORY&suggestionId=smartwatch%7CSmart+Watches&requestId=0d0810b6-0413-449a-bf26-d54d847d4d52\n",
      "<Response [200]>\n",
      "https://www.flipkart.com/search?q=smartwatch&sid=ajy%2Cbuh&as=on&as-show=on&otracker=AS_QueryStore_OrganicAutoSuggest_2_8_na_na_na&otracker1=AS_QueryStore_OrganicAutoSuggest_2_8_na_na_na&as-pos=2&as-type=HISTORY&suggestionId=smartwatch%7CSmart+Watches&requestId=0d0810b6-0413-449a-bf26-d54d847d4d52\n",
      "<Response [200]>\n",
      "https://www.flipkart.com/search?q=smartwatch&sid=ajy%2Cbuh&as=on&as-show=on&otracker=AS_QueryStore_OrganicAutoSuggest_2_8_na_na_na&otracker1=AS_QueryStore_OrganicAutoSuggest_2_8_na_na_na&as-pos=2&as-type=HISTORY&suggestionId=smartwatch%7CSmart+Watches&requestId=0d0810b6-0413-449a-bf26-d54d847d4d52\n",
      "<Response [429]>\n",
      "https://www.flipkart.com/search?q=smartwatch&sid=ajy%2Cbuh&as=on&as-show=on&otracker=AS_QueryStore_OrganicAutoSuggest_2_8_na_na_na&otracker1=AS_QueryStore_OrganicAutoSuggest_2_8_na_na_na&as-pos=2&as-type=HISTORY&suggestionId=smartwatch%7CSmart+Watches&requestId=0d0810b6-0413-449a-bf26-d54d847d4d52\n",
      "<Response [200]>\n",
      "https://www.flipkart.com/search?q=smartwatch&sid=ajy%2Cbuh&as=on&as-show=on&otracker=AS_QueryStore_OrganicAutoSuggest_2_8_na_na_na&otracker1=AS_QueryStore_OrganicAutoSuggest_2_8_na_na_na&as-pos=2&as-type=HISTORY&suggestionId=smartwatch%7CSmart+Watches&requestId=0d0810b6-0413-449a-bf26-d54d847d4d52\n",
      "<Response [200]>\n",
      "https://www.flipkart.com/search?q=smartwatch&sid=ajy%2Cbuh&as=on&as-show=on&otracker=AS_QueryStore_OrganicAutoSuggest_2_8_na_na_na&otracker1=AS_QueryStore_OrganicAutoSuggest_2_8_na_na_na&as-pos=2&as-type=HISTORY&suggestionId=smartwatch%7CSmart+Watches&requestId=0d0810b6-0413-449a-bf26-d54d847d4d52\n",
      "<Response [200]>\n",
      "https://www.flipkart.com/search?q=smartwatch&sid=ajy%2Cbuh&as=on&as-show=on&otracker=AS_QueryStore_OrganicAutoSuggest_2_8_na_na_na&otracker1=AS_QueryStore_OrganicAutoSuggest_2_8_na_na_na&as-pos=2&as-type=HISTORY&suggestionId=smartwatch%7CSmart+Watches&requestId=0d0810b6-0413-449a-bf26-d54d847d4d52\n",
      "<Response [200]>\n",
      "https://www.flipkart.com/search?q=smartwatch&sid=ajy%2Cbuh&as=on&as-show=on&otracker=AS_QueryStore_OrganicAutoSuggest_2_8_na_na_na&otracker1=AS_QueryStore_OrganicAutoSuggest_2_8_na_na_na&as-pos=2&as-type=HISTORY&suggestionId=smartwatch%7CSmart+Watches&requestId=0d0810b6-0413-449a-bf26-d54d847d4d52\n",
      "<Response [200]>\n",
      "https://www.flipkart.com/search?q=smartwatch&sid=ajy%2Cbuh&as=on&as-show=on&otracker=AS_QueryStore_OrganicAutoSuggest_2_8_na_na_na&otracker1=AS_QueryStore_OrganicAutoSuggest_2_8_na_na_na&as-pos=2&as-type=HISTORY&suggestionId=smartwatch%7CSmart+Watches&requestId=0d0810b6-0413-449a-bf26-d54d847d4d52\n",
      "<Response [200]>\n",
      "https://www.flipkart.com/search?q=smartwatch&sid=ajy%2Cbuh&as=on&as-show=on&otracker=AS_QueryStore_OrganicAutoSuggest_2_8_na_na_na&otracker1=AS_QueryStore_OrganicAutoSuggest_2_8_na_na_na&as-pos=2&as-type=HISTORY&suggestionId=smartwatch%7CSmart+Watches&requestId=0d0810b6-0413-449a-bf26-d54d847d4d52\n"
     ]
    },
    {
     "name": "stdout",
     "output_type": "stream",
     "text": [
      "<Response [200]>\n",
      "https://www.flipkart.com/search?q=smartwatch&sid=ajy%2Cbuh&as=on&as-show=on&otracker=AS_QueryStore_OrganicAutoSuggest_2_8_na_na_na&otracker1=AS_QueryStore_OrganicAutoSuggest_2_8_na_na_na&as-pos=2&as-type=HISTORY&suggestionId=smartwatch%7CSmart+Watches&requestId=0d0810b6-0413-449a-bf26-d54d847d4d52\n",
      "<Response [200]>\n",
      "https://www.flipkart.com/search?q=smartwatch&sid=ajy%2Cbuh&as=on&as-show=on&otracker=AS_QueryStore_OrganicAutoSuggest_2_8_na_na_na&otracker1=AS_QueryStore_OrganicAutoSuggest_2_8_na_na_na&as-pos=2&as-type=HISTORY&suggestionId=smartwatch%7CSmart+Watches&requestId=0d0810b6-0413-449a-bf26-d54d847d4d52\n",
      "<Response [429]>\n",
      "https://www.flipkart.com/search?q=smartwatch&sid=ajy%2Cbuh&as=on&as-show=on&otracker=AS_QueryStore_OrganicAutoSuggest_2_8_na_na_na&otracker1=AS_QueryStore_OrganicAutoSuggest_2_8_na_na_na&as-pos=2&as-type=HISTORY&suggestionId=smartwatch%7CSmart+Watches&requestId=0d0810b6-0413-449a-bf26-d54d847d4d52\n",
      "<Response [200]>\n",
      "https://www.flipkart.com/search?q=smartwatch&sid=ajy%2Cbuh&as=on&as-show=on&otracker=AS_QueryStore_OrganicAutoSuggest_2_8_na_na_na&otracker1=AS_QueryStore_OrganicAutoSuggest_2_8_na_na_na&as-pos=2&as-type=HISTORY&suggestionId=smartwatch%7CSmart+Watches&requestId=0d0810b6-0413-449a-bf26-d54d847d4d52\n",
      "<Response [200]>\n",
      "https://www.flipkart.com/search?q=smartwatch&sid=ajy%2Cbuh&as=on&as-show=on&otracker=AS_QueryStore_OrganicAutoSuggest_2_8_na_na_na&otracker1=AS_QueryStore_OrganicAutoSuggest_2_8_na_na_na&as-pos=2&as-type=HISTORY&suggestionId=smartwatch%7CSmart+Watches&requestId=0d0810b6-0413-449a-bf26-d54d847d4d52\n",
      "<Response [200]>\n",
      "https://www.flipkart.com/search?q=smartwatch&sid=ajy%2Cbuh&as=on&as-show=on&otracker=AS_QueryStore_OrganicAutoSuggest_2_8_na_na_na&otracker1=AS_QueryStore_OrganicAutoSuggest_2_8_na_na_na&as-pos=2&as-type=HISTORY&suggestionId=smartwatch%7CSmart+Watches&requestId=0d0810b6-0413-449a-bf26-d54d847d4d52\n",
      "<Response [200]>\n",
      "https://www.flipkart.com/search?q=smartwatch&sid=ajy%2Cbuh&as=on&as-show=on&otracker=AS_QueryStore_OrganicAutoSuggest_2_8_na_na_na&otracker1=AS_QueryStore_OrganicAutoSuggest_2_8_na_na_na&as-pos=2&as-type=HISTORY&suggestionId=smartwatch%7CSmart+Watches&requestId=0d0810b6-0413-449a-bf26-d54d847d4d52\n",
      "<Response [200]>\n",
      "https://www.flipkart.com/search?q=smartwatch&sid=ajy%2Cbuh&as=on&as-show=on&otracker=AS_QueryStore_OrganicAutoSuggest_2_8_na_na_na&otracker1=AS_QueryStore_OrganicAutoSuggest_2_8_na_na_na&as-pos=2&as-type=HISTORY&suggestionId=smartwatch%7CSmart+Watches&requestId=0d0810b6-0413-449a-bf26-d54d847d4d52\n",
      "<Response [200]>\n",
      "https://www.flipkart.com/search?q=smartwatch&sid=ajy%2Cbuh&as=on&as-show=on&otracker=AS_QueryStore_OrganicAutoSuggest_2_8_na_na_na&otracker1=AS_QueryStore_OrganicAutoSuggest_2_8_na_na_na&as-pos=2&as-type=HISTORY&suggestionId=smartwatch%7CSmart+Watches&requestId=0d0810b6-0413-449a-bf26-d54d847d4d52\n",
      "<Response [429]>\n",
      "https://www.flipkart.com/search?q=smartwatch&sid=ajy%2Cbuh&as=on&as-show=on&otracker=AS_QueryStore_OrganicAutoSuggest_2_8_na_na_na&otracker1=AS_QueryStore_OrganicAutoSuggest_2_8_na_na_na&as-pos=2&as-type=HISTORY&suggestionId=smartwatch%7CSmart+Watches&requestId=0d0810b6-0413-449a-bf26-d54d847d4d52\n",
      "<Response [200]>\n",
      "https://www.flipkart.com/search?q=smartwatch&sid=ajy%2Cbuh&as=on&as-show=on&otracker=AS_QueryStore_OrganicAutoSuggest_2_8_na_na_na&otracker1=AS_QueryStore_OrganicAutoSuggest_2_8_na_na_na&as-pos=2&as-type=HISTORY&suggestionId=smartwatch%7CSmart+Watches&requestId=0d0810b6-0413-449a-bf26-d54d847d4d52\n",
      "<Response [200]>\n",
      "https://www.flipkart.com/search?q=smartwatch&sid=ajy%2Cbuh&as=on&as-show=on&otracker=AS_QueryStore_OrganicAutoSuggest_2_8_na_na_na&otracker1=AS_QueryStore_OrganicAutoSuggest_2_8_na_na_na&as-pos=2&as-type=HISTORY&suggestionId=smartwatch%7CSmart+Watches&requestId=0d0810b6-0413-449a-bf26-d54d847d4d52\n",
      "<Response [200]>\n",
      "https://www.flipkart.com/search?q=smartwatch&sid=ajy%2Cbuh&as=on&as-show=on&otracker=AS_QueryStore_OrganicAutoSuggest_2_8_na_na_na&otracker1=AS_QueryStore_OrganicAutoSuggest_2_8_na_na_na&as-pos=2&as-type=HISTORY&suggestionId=smartwatch%7CSmart+Watches&requestId=0d0810b6-0413-449a-bf26-d54d847d4d52\n",
      "<Response [200]>\n",
      "https://www.flipkart.com/search?q=smartwatch&sid=ajy%2Cbuh&as=on&as-show=on&otracker=AS_QueryStore_OrganicAutoSuggest_2_8_na_na_na&otracker1=AS_QueryStore_OrganicAutoSuggest_2_8_na_na_na&as-pos=2&as-type=HISTORY&suggestionId=smartwatch%7CSmart+Watches&requestId=0d0810b6-0413-449a-bf26-d54d847d4d52\n"
     ]
    }
   ],
   "source": [
    "for i in range(1,41):\n",
    "    url='https://www.flipkart.com/search?q=smartwatch&sid=ajy%2Cbuh&as=on&as-show=on&otracker=AS_QueryStore_OrganicAutoSuggest_2_8_na_na_na&otracker1=AS_QueryStore_OrganicAutoSuggest_2_8_na_na_na&as-pos=2&as-type=HISTORY&suggestionId=smartwatch%7CSmart+Watches&requestId=0d0810b6-0413-449a-bf26-d54d847d4d52'    \n",
    "    page=requests.get(url)\n",
    "    print(page)\n",
    "    print(url)"
   ]
  },
  {
   "cell_type": "code",
   "execution_count": 4,
   "id": "719e0098",
   "metadata": {
    "scrolled": true
   },
   "outputs": [
    {
     "data": {
      "text/plain": [
       "' Smartwatch- Buy Products Online at Best Price in India - All Categories | Flipkart.com     Explore PlusLoginBecome a Seller More CartFiltersCATEGORIESWearable Smart DevicesSmart WatchesPrice.......Min₹1000₹5000₹10000₹15000₹20000to₹1000₹5000₹10000₹15000₹20000₹20000+?BrandDial ShapeDisplay SizeDiscountCustomer Ratings4★ & above3★ & above2★ & above1★ & aboveStrap ColorDisplay TypeIdeal ForCompatible OSFeaturesStrap MaterialUsageOffersNo Cost EMISpecial PriceGST Invoice AvailableAvailabilityHomeWearable Smart DevicesSmart WatchesShowing 1 – 40 of 36,142 results for \"smartwatch\"Sort ByRelevancePopularityPrice -- Low to HighPrice -- High to LowSponsoredBoult Drift BT Calling 1.69\" HD Display, 140+ Watchface...Blue Strap, Free Size₹1,499₹7,99981% offFree deliveryBank OfferSponsoredBoult Crown 1.95\\'\\' Screen, BT Calling, Working Crown, Z...Black Strap, Free Size₹1,799₹4,49960% offFree deliveryBank OfferNoise Colorfit Icon 2 1.8\\'\\' Display with Bluetooth Call...Black Strap, Regular₹1,399₹5,99976% offFree deliverySave extra with combo offersbeatXP Marv Neo 1.85\\'\\' HD Display Bluetooth Calling Sma...Electric Black Strap, Free Size₹1,499₹6,49976% offFree deliverySave extra with combo offersbeatXP Marv Neo 1.85\\'\\' HD Display Bluetooth Calling Sma...Rose Gold Strap, Free Size₹1,499₹6,49976% offFree deliverySave extra with combo offersbeatXP Marv Neo 1.85\\'\\' HD Display Bluetooth Calling Sma...Ice Silver Strap, Free Size₹1,499₹6,49976% offFree deliverySave extra with combo offersNoise Colorfit Icon 2 1.8\\'\\' Display with Bluetooth Call...Glossy Black Strap, Regular₹1,399₹5,99976% offFree deliverySave extra with combo offersSponsoredBoult Drift BT Calling 1.69\" HD Display, 140+ Watchface...Green Strap, Free Size₹1,499₹7,99981% offFree deliveryBank OfferboAt Storm call 1.69 inch HD display with Bluetooth Cal...Cherry Blossom Strap, Free Size₹1,629₹7,99079% offFree deliveryBank OfferFire-Boltt Hurricane 1.3\" Curved Glass Display with 360...Pink Gold Strap, Free Size₹1,399₹8,99984% offFree deliveryOnly few leftSponsoredBoult Crown 1.95\\'\\' Screen, BT Calling, Working Crown, Z...Yellow Strap, Free Size₹1,799₹4,49960% offFree deliveryBank OfferSponsoredBoult Drift BT Calling 1.69\" HD Display, 140+ Watchface...Beige Strap, Free Size₹1,499₹7,99981% offFree deliveryBank OfferFire-Boltt Hurricane 1.3\" Curved Glass Display with 360...Grey Strap, Free Size₹1,399₹8,99984% offFree deliveryBank OfferFire-Boltt Hurricane 1.3\" Curved Glass Display with 360...Black Strap, Free Size₹1,399₹8,99984% offFree deliverySave extra with combo offersFire-Boltt Talk 1.28\"Bluetooth Calling with SpO2, Metal...Teal Strap, 46₹1,299₹9,99987% offFree deliveryBank OfferFire-Boltt Talk 1.28\"Bluetooth Calling with SpO2, Metal...Blue Strap, L₹1,299₹9,99987% offFree deliveryBank OfferSponsoredNoise Icon 3 1.91\" Display with Bluetooth Calling, Meta...Black Strap, Regular₹1,999₹7,99975% offFree deliveryBank OfferSponsoredNoise Qube 2 1.96\" display with Bluetooth Calling, Buil...Deep Wine Strap, Regular₹1,749₹6,99975% offFree deliveryHot DealFire-Boltt Talk 1.28\"Bluetooth Calling with SpO2, Metal...Black Strap, 46₹1,199₹9,99988% offFree deliveryHot DealFire-Boltt Talk 1.28\"Bluetooth Calling with SpO2, Metal...Grey Strap, 46₹1,199₹9,99988% offFree deliveryHot DealSponsoredBoult Drift Pro 1.78\" AMOLED, BT Calling, 800Nits Brigh...Blue Strap, Free Size₹2,299₹9,99977% offFree deliveryBank OfferSponsoredBoult Drift+ Bluetooth Calling, 1.85\" HD, 500Nits Brigh...Snow Leather Strap, Free Size₹1,499₹8,49982% offFree deliveryBank OfferNoise Thrive 1.85\\'\\' Display with Bluetooth Calling, Mus...Black Strap, Regular₹1,299₹5,99978% offFree deliveryHot DealNoise Icon Buzz 1.69\" Display with Bluetooth Calling, B...Black Strap, Regular₹1,299₹4,99974% offFree deliverySave extra with combo offersFire-Boltt Supernova 1.78 AMOLED 368*448px High Resolut...Classic Black Strap, Free Size₹2,199₹18,99988% offFree deliveryBank OfferFire-Boltt Talk 1.28\"Bluetooth Calling with SpO2, Metal...Gold Strap, L₹1,299₹9,99987% offFree deliveryOnly 2 leftSponsoredNoise Crew 1.38\" Round Display with Bluetooth Calling, ...Black Strap, Regular₹1,399₹4,99972% offFree deliveryHot DealSponsoredPebble Cosmos Ultra 1.91\" 600 nits BT-Calling High-Res ...Black Strap, Free Size₹1,599₹7,49978% offFree deliveryBank OfferSAMSUNG Watch 4 Classic LTE 46mm Super AMOLED LTE Calli...Black Strap, Free Size₹14,999₹42,99965% offFree deliverySave extra with combo offersNoise Colorfit Icon 2 1.8\\'\\' Display with Bluetooth Call...Blue Strap, Regular₹1,399₹5,99976% offFree deliverySave extra with combo offersSponsoredNoise Icon 3 1.91\" Display with Bluetooth Calling, Meta...Metallic Black Strap, Regular₹1,999₹7,99975% offFree deliveryBank OfferSponsoredBoult Drift Pro 1.78\" AMOLED, BT Calling, 800Nits Brigh...Black Strap, Free Size₹2,299₹9,99977% offFree deliveryHot DealFire-Boltt Ninja Pro Max Plus 1.83 SmartwatchPink Gold Strap, Free Size₹1,199₹7,99985% offFree deliveryOnly few leftFire-Boltt Supernova 1.78 AMOLED 368*448px High Resolut...Blue Strap, Free Size₹2,199₹18,99988% offFree deliveryBank OfferFire-Boltt Talk 1.28\"Bluetooth Calling with SpO2, Metal...Red Strap, L₹1,299₹9,99987% offFree deliveryOnly 5 leftFire-Boltt Ninja Pro Max Plus 1.83 SmartwatchBlue Strap, Free Size₹1,199₹7,99985% offFree deliveryOnly 3 leftSponsoredBoult CrownX 2.0\" HD Screen, BT Calling, Working Crown,...Pure Black Strap, Free Size₹1,299₹3,99967% offFree deliveryLowest price since launchSponsoredBoult Cosmic R 1.3\" HD, Complete Health Tracking, 150+ ...Green Strap, Free Size₹1,499₹5,99975% offFree deliveryBank OfferFire-Boltt Ninja Pro Max Plus 1.83 SmartwatchRose Gold Strap, Free Size₹1,199₹7,99985% offFree deliveryOnly 4 leftFire-Boltt Ninja Pro Max Plus 1.83 SmartwatchGreen Strap, Free Size₹1,199₹7,99985% offFree deliveryBank OfferPage 1 of 90412345678910NextDid you find what you were looking for?YesNoReviews for Popular Smart Watches1. boAt Storm call 1.69 inch H...4.13,20,510 Ratings&20,391 Reviews₹1,62979% off1.69inch HD Display|550 Nits Brightness| 2.5D Curved Touch DisplayBluetooth Calling & Dialpad(Save upto 10 contacts)| Ultra Slim & Lightweight150+ Watch Faces| HR & SpO2 MonitoringMost Helpful Review3GoodHello friends this is very honest review after using 2 days.Adventage      👇1)The first this is watch is Very stylish and light weight.2) Display and t...Read full reviewPrasanna HegdeCertified BuyerOct, 2022Recent Review5Simply awesomePaisa wasul this watch is totally osm I love this watch and suggest you to buying this watchRead full reviewMD. Awesh KhanCertified BuyerToday2. beatXP Marv Neo 1.85\\'\\' HD D...4.154,198 Ratings&6,243 Reviews₹1,49976% offWith Call FunctionTouchscreenFitness & OutdoorMost Helpful Review4Good quality productNice products I am using one day that awesome products that all are niceRead full reviewKundan Kumar GuptaCertified Buyer9 months agoRecent Review4Really NiceVery nice product⌚Read full reviewSuraj chauhanCertified BuyerToday3. Noise Crew 1.38\" Round Disp...4.266,697 Ratings&4,806 Reviews₹1,39972% off1.38 inches(3.50cms) TFT display, 240x240px - Big, bright and round display for an immersive viewing experience.Up to 7-day battery life & up to 2-days of power with calling activated. Its 300mAh battery takes approx. 2 hours to fully charge. (Battery life can vary due to multiple factors)NoiseFit app - You can track your progress overtime, get health updates, compete with friends and share your achievements.Most Helpful Review4Worth the moneyReview after 5 days of use1)Battery life connecting with mobile full activity reminder and Bluetooth calling only two times then battery life 2 days2) sens...Read full reviewRavirajsinh sodhaCertified Buyer8 months agoRecent Review5Classy productProduct is very nice,👌👌Read full reviewAnmol  KumarCertified BuyerToday4. Boult CrownX 2.0\" HD Screen...4.232,457 Ratings&3,470 Reviews₹1,29967% offBluetooth Calling with Dedicated Speaker and Mic | Zinc Alloy Frame | Working Crown2.0\" HD Screen with 240x296 Pixels High ResolutionStunning to Eyes 1000 Nits Highest Brightness Display.Most Helpful Review5BrilliantVery good watch I like itRead full reviewDipak ChandaCertified Buyer4 months agoRecent Review4Really NiceI am using this watch from two months and now i review them. Watch quality is actually premium and bettery is also long. After One time charged they will eas...Read full reviewFlipkart CustomerCertified BuyerToday5. Pebble Cosmos Ultra 1.91\" 6...4.324,817 Ratings&4,858 Reviews₹1,59978% off1.91 inch High-Resolution Infinite Display with Curved Edges | 600 Nits Brightness| Answer and make calls with Bluetooth directly from your watch - Call, Message & Social Media NotificationBlood-oxygen monitoring (SPO2), 24*7 Heart rate monitoring, Sedentary alert| IP67 waterproof standard, AI Voice Assistant (Google & Siri)| Inbuilt 10+ watch faces and 100+ cloud-based watch faces | Information, Inbuilt gamesAlways on rotating display when charging | Social media contacts sharing by scanning QR Code| Active Rotating Crown, Calculator, Smart password screen lock, Stopwatch, WeatherMost Helpful Review5WonderfulIts value for money, and best looking watch, also gold colour is loos royal and good for both male/female.Read full reviewAnkur RajCertified BuyerSep, 2022Recent Review5Super!Nice Smarth Watch, Value for money, suggest to buy u will definitely love the product..Read full reviewNorman George Certified Buyer1 day agoABOUTContact UsAbout UsCareersFlipkart StoriesPressFlipkart WholesaleCleartripCorporate InformationHELPPaymentsShippingCancellation & ReturnsFAQReport InfringementCONSUMER POLICYCancellation & ReturnsTerms Of UseSecurityPrivacySitemapGrievance RedressalEPR ComplianceSOCIALFacebookTwitterYouTubeMail Us:Flipkart Internet Private Limited, \\n Buildings Alyssa, Begonia & \\n Clove Embassy Tech Village, \\n Outer Ring Road, Devarabeesanahalli Village, \\n Bengaluru, 560103, \\n Karnataka, India\\nRegistered Office Address:Flipkart Internet Private Limited, \\n Buildings Alyssa, Begonia & \\n Clove Embassy Tech Village, \\n Outer Ring Road, Devarabeesanahalli Village, \\n Bengaluru, 560103, \\n Karnataka, India \\n CIN : U51109KA2012PTC066107 \\n Telephone: 044-45614700\\nBecome a SellerAdvertiseGift CardsHelp Center© 2007-2023 Flipkart.comBack to top   \\n \\n\\n  '"
      ]
     },
     "execution_count": 4,
     "metadata": {},
     "output_type": "execute_result"
    }
   ],
   "source": [
    "soup=BeautifulSoup(page.text)\n",
    "soup.text"
   ]
  },
  {
   "cell_type": "code",
   "execution_count": 5,
   "id": "182d73ad",
   "metadata": {},
   "outputs": [],
   "source": [
    "Strap=[]\n",
    "for i in soup.find_all('div' ,class_=\"_3eWWd-\"):\n",
    "    text=i.text\n",
    "    if text:\n",
    "        Strap.append(text)\n",
    "    else:\n",
    "        Strap.append(np.nan)"
   ]
  },
  {
   "cell_type": "code",
   "execution_count": 6,
   "id": "e33f8a07",
   "metadata": {
    "scrolled": true
   },
   "outputs": [
    {
     "data": {
      "text/plain": [
       "['Blue Strap, Free Size',\n",
       " 'Black Strap, Free Size',\n",
       " 'Black Strap, Regular',\n",
       " 'Electric Black Strap, Free Size',\n",
       " 'Rose Gold Strap, Free Size',\n",
       " 'Ice Silver Strap, Free Size',\n",
       " 'Glossy Black Strap, Regular',\n",
       " 'Green Strap, Free Size',\n",
       " 'Cherry Blossom Strap, Free Size',\n",
       " 'Pink Gold Strap, Free Size',\n",
       " 'Yellow Strap, Free Size',\n",
       " 'Beige Strap, Free Size',\n",
       " 'Grey Strap, Free Size',\n",
       " 'Black Strap, Free Size',\n",
       " 'Teal Strap, 46',\n",
       " 'Blue Strap, L',\n",
       " 'Black Strap, Regular',\n",
       " 'Deep Wine Strap, Regular',\n",
       " 'Black Strap, 46',\n",
       " 'Grey Strap, 46',\n",
       " 'Blue Strap, Free Size',\n",
       " 'Snow Leather Strap, Free Size',\n",
       " 'Black Strap, Regular',\n",
       " 'Black Strap, Regular',\n",
       " 'Classic Black Strap, Free Size',\n",
       " 'Gold Strap, L',\n",
       " 'Black Strap, Regular',\n",
       " 'Black Strap, Free Size',\n",
       " 'Black Strap, Free Size',\n",
       " 'Blue Strap, Regular',\n",
       " 'Metallic Black Strap, Regular',\n",
       " 'Black Strap, Free Size',\n",
       " 'Pink Gold Strap, Free Size',\n",
       " 'Blue Strap, Free Size',\n",
       " 'Red Strap, L',\n",
       " 'Blue Strap, Free Size',\n",
       " 'Pure Black Strap, Free Size',\n",
       " 'Green Strap, Free Size',\n",
       " 'Rose Gold Strap, Free Size',\n",
       " 'Green Strap, Free Size']"
      ]
     },
     "execution_count": 6,
     "metadata": {},
     "output_type": "execute_result"
    }
   ],
   "source": [
    "Strap"
   ]
  },
  {
   "cell_type": "code",
   "execution_count": 7,
   "id": "afb0370b",
   "metadata": {},
   "outputs": [],
   "source": [
    "#<div class=\"_30jeq3\">₹1,499</div>\n",
    "Price=[]\n",
    "for i in soup.find_all('div',class_=\"_30jeq3\"):\n",
    "    text=i.text\n",
    "    if text:\n",
    "        Price.append(text)\n",
    "    else:\n",
    "        Price.append(np.nan)"
   ]
  },
  {
   "cell_type": "code",
   "execution_count": 8,
   "id": "0967a792",
   "metadata": {
    "scrolled": true
   },
   "outputs": [
    {
     "data": {
      "text/plain": [
       "['₹1,499',\n",
       " '₹1,799',\n",
       " '₹1,399',\n",
       " '₹1,499',\n",
       " '₹1,499',\n",
       " '₹1,499',\n",
       " '₹1,399',\n",
       " '₹1,499',\n",
       " '₹1,629',\n",
       " '₹1,399',\n",
       " '₹1,799',\n",
       " '₹1,499',\n",
       " '₹1,399',\n",
       " '₹1,399',\n",
       " '₹1,299',\n",
       " '₹1,299',\n",
       " '₹1,999',\n",
       " '₹1,749',\n",
       " '₹1,199',\n",
       " '₹1,199',\n",
       " '₹2,299',\n",
       " '₹1,499',\n",
       " '₹1,299',\n",
       " '₹1,299',\n",
       " '₹2,199',\n",
       " '₹1,299',\n",
       " '₹1,399',\n",
       " '₹1,599',\n",
       " '₹14,999',\n",
       " '₹1,399',\n",
       " '₹1,999',\n",
       " '₹2,299',\n",
       " '₹1,199',\n",
       " '₹2,199',\n",
       " '₹1,299',\n",
       " '₹1,199',\n",
       " '₹1,299',\n",
       " '₹1,499',\n",
       " '₹1,199',\n",
       " '₹1,199',\n",
       " '₹1,629',\n",
       " '₹1,499',\n",
       " '₹1,399',\n",
       " '₹1,299',\n",
       " '₹1,599']"
      ]
     },
     "execution_count": 8,
     "metadata": {},
     "output_type": "execute_result"
    }
   ],
   "source": [
    "Price"
   ]
  },
  {
   "cell_type": "code",
   "execution_count": 9,
   "id": "14bf66a7",
   "metadata": {},
   "outputs": [],
   "source": [
    "Op=[]\n",
    "for i in soup.find_all('div' ,class_=\"_3I9_wc\"):\n",
    "    text=i.text\n",
    "    if text:\n",
    "        Op.append(text)\n",
    "    else:\n",
    "        Op.append(np.nan)"
   ]
  },
  {
   "cell_type": "code",
   "execution_count": 10,
   "id": "913f2f14",
   "metadata": {
    "scrolled": true
   },
   "outputs": [
    {
     "data": {
      "text/plain": [
       "['₹7,999',\n",
       " '₹4,499',\n",
       " '₹5,999',\n",
       " '₹6,499',\n",
       " '₹6,499',\n",
       " '₹6,499',\n",
       " '₹5,999',\n",
       " '₹7,999',\n",
       " '₹7,990',\n",
       " '₹8,999',\n",
       " '₹4,499',\n",
       " '₹7,999',\n",
       " '₹8,999',\n",
       " '₹8,999',\n",
       " '₹9,999',\n",
       " '₹9,999',\n",
       " '₹7,999',\n",
       " '₹6,999',\n",
       " '₹9,999',\n",
       " '₹9,999',\n",
       " '₹9,999',\n",
       " '₹8,499',\n",
       " '₹5,999',\n",
       " '₹4,999',\n",
       " '₹18,999',\n",
       " '₹9,999',\n",
       " '₹4,999',\n",
       " '₹7,499',\n",
       " '₹42,999',\n",
       " '₹5,999',\n",
       " '₹7,999',\n",
       " '₹9,999',\n",
       " '₹7,999',\n",
       " '₹18,999',\n",
       " '₹9,999',\n",
       " '₹7,999',\n",
       " '₹3,999',\n",
       " '₹5,999',\n",
       " '₹7,999',\n",
       " '₹7,999']"
      ]
     },
     "execution_count": 10,
     "metadata": {},
     "output_type": "execute_result"
    }
   ],
   "source": [
    "Op"
   ]
  },
  {
   "cell_type": "code",
   "execution_count": 11,
   "id": "a9458807",
   "metadata": {},
   "outputs": [],
   "source": [
    "#<div class=\"_3Ay6Sb\"><span>81% off</span></div>\n",
    "disc=[]\n",
    "for i in soup.find_all('div' ,class_=\"_3Ay6Sb\"):\n",
    "    text=i.text\n",
    "    if text:\n",
    "        disc.append(text)\n",
    "    else:\n",
    "        disc.append(np.nan)"
   ]
  },
  {
   "cell_type": "code",
   "execution_count": 12,
   "id": "99d6814f",
   "metadata": {
    "scrolled": true
   },
   "outputs": [
    {
     "data": {
      "text/plain": [
       "['81% off',\n",
       " '60% off',\n",
       " '76% off',\n",
       " '76% off',\n",
       " '76% off',\n",
       " '76% off',\n",
       " '76% off',\n",
       " '81% off',\n",
       " '79% off',\n",
       " '84% off',\n",
       " '60% off',\n",
       " '81% off',\n",
       " '84% off',\n",
       " '84% off',\n",
       " '87% off',\n",
       " '87% off',\n",
       " '75% off',\n",
       " '75% off',\n",
       " '88% off',\n",
       " '88% off',\n",
       " '77% off',\n",
       " '82% off',\n",
       " '78% off',\n",
       " '74% off',\n",
       " '88% off',\n",
       " '87% off',\n",
       " '72% off',\n",
       " '78% off',\n",
       " '65% off',\n",
       " '76% off',\n",
       " '75% off',\n",
       " '77% off',\n",
       " '85% off',\n",
       " '88% off',\n",
       " '87% off',\n",
       " '85% off',\n",
       " '67% off',\n",
       " '75% off',\n",
       " '85% off',\n",
       " '85% off',\n",
       " '79% off',\n",
       " '76% off',\n",
       " '72% off',\n",
       " '67% off',\n",
       " '78% off']"
      ]
     },
     "execution_count": 12,
     "metadata": {},
     "output_type": "execute_result"
    }
   ],
   "source": [
    "disc"
   ]
  },
  {
   "cell_type": "code",
   "execution_count": 13,
   "id": "9a82616f",
   "metadata": {},
   "outputs": [],
   "source": [
    "Brand=[]\n",
    "for i in soup.find_all('a' ,class_=\"IRpwTa\"):\n",
    "    text=i.text\n",
    "    if text:\n",
    "        Brand.append(text)\n",
    "    else:\n",
    "        Brand.append(np.nan)"
   ]
  },
  {
   "cell_type": "code",
   "execution_count": 14,
   "id": "cd45bde1",
   "metadata": {
    "scrolled": true
   },
   "outputs": [
    {
     "data": {
      "text/plain": [
       "['Boult Drift BT Calling 1.69\" HD Display, 140+ Watchface...',\n",
       " \"Boult Crown 1.95'' Screen, BT Calling, Working Crown, Z...\",\n",
       " \"Noise Colorfit Icon 2 1.8'' Display with Bluetooth Call...\",\n",
       " \"beatXP Marv Neo 1.85'' HD Display Bluetooth Calling Sma...\",\n",
       " \"beatXP Marv Neo 1.85'' HD Display Bluetooth Calling Sma...\",\n",
       " \"beatXP Marv Neo 1.85'' HD Display Bluetooth Calling Sma...\",\n",
       " \"Noise Colorfit Icon 2 1.8'' Display with Bluetooth Call...\",\n",
       " 'Boult Drift BT Calling 1.69\" HD Display, 140+ Watchface...',\n",
       " 'boAt Storm call 1.69 inch HD display with Bluetooth Cal...',\n",
       " 'Fire-Boltt Hurricane 1.3\" Curved Glass Display with 360...',\n",
       " \"Boult Crown 1.95'' Screen, BT Calling, Working Crown, Z...\",\n",
       " 'Boult Drift BT Calling 1.69\" HD Display, 140+ Watchface...',\n",
       " 'Fire-Boltt Hurricane 1.3\" Curved Glass Display with 360...',\n",
       " 'Fire-Boltt Hurricane 1.3\" Curved Glass Display with 360...',\n",
       " 'Fire-Boltt Talk 1.28\"Bluetooth Calling with SpO2, Metal...',\n",
       " 'Fire-Boltt Talk 1.28\"Bluetooth Calling with SpO2, Metal...',\n",
       " 'Noise Icon 3 1.91\" Display with Bluetooth Calling, Meta...',\n",
       " 'Noise Qube 2 1.96\" display with Bluetooth Calling, Buil...',\n",
       " 'Fire-Boltt Talk 1.28\"Bluetooth Calling with SpO2, Metal...',\n",
       " 'Fire-Boltt Talk 1.28\"Bluetooth Calling with SpO2, Metal...',\n",
       " 'Boult Drift Pro 1.78\" AMOLED, BT Calling, 800Nits Brigh...',\n",
       " 'Boult Drift+ Bluetooth Calling, 1.85\" HD, 500Nits Brigh...',\n",
       " \"Noise Thrive 1.85'' Display with Bluetooth Calling, Mus...\",\n",
       " 'Noise Icon Buzz 1.69\" Display with Bluetooth Calling, B...',\n",
       " 'Fire-Boltt Supernova 1.78 AMOLED 368*448px High Resolut...',\n",
       " 'Fire-Boltt Talk 1.28\"Bluetooth Calling with SpO2, Metal...',\n",
       " 'Noise Crew 1.38\" Round Display with Bluetooth Calling, ...',\n",
       " 'Pebble Cosmos Ultra 1.91\" 600 nits BT-Calling High-Res ...',\n",
       " 'SAMSUNG Watch 4 Classic LTE 46mm Super AMOLED LTE Calli...',\n",
       " \"Noise Colorfit Icon 2 1.8'' Display with Bluetooth Call...\",\n",
       " 'Noise Icon 3 1.91\" Display with Bluetooth Calling, Meta...',\n",
       " 'Boult Drift Pro 1.78\" AMOLED, BT Calling, 800Nits Brigh...',\n",
       " 'Fire-Boltt Ninja Pro Max Plus 1.83 Smartwatch',\n",
       " 'Fire-Boltt Supernova 1.78 AMOLED 368*448px High Resolut...',\n",
       " 'Fire-Boltt Talk 1.28\"Bluetooth Calling with SpO2, Metal...',\n",
       " 'Fire-Boltt Ninja Pro Max Plus 1.83 Smartwatch',\n",
       " 'Boult CrownX 2.0\" HD Screen, BT Calling, Working Crown,...',\n",
       " 'Boult Cosmic R 1.3\" HD, Complete Health Tracking, 150+ ...',\n",
       " 'Fire-Boltt Ninja Pro Max Plus 1.83 Smartwatch',\n",
       " 'Fire-Boltt Ninja Pro Max Plus 1.83 Smartwatch']"
      ]
     },
     "execution_count": 14,
     "metadata": {},
     "output_type": "execute_result"
    }
   ],
   "source": [
    "Brand"
   ]
  },
  {
   "cell_type": "code",
   "execution_count": null,
   "id": "3cec4382",
   "metadata": {},
   "outputs": [],
   "source": []
  }
 ],
 "metadata": {
  "kernelspec": {
   "display_name": "Python 3 (ipykernel)",
   "language": "python",
   "name": "python3"
  },
  "language_info": {
   "codemirror_mode": {
    "name": "ipython",
    "version": 3
   },
   "file_extension": ".py",
   "mimetype": "text/x-python",
   "name": "python",
   "nbconvert_exporter": "python",
   "pygments_lexer": "ipython3",
   "version": "3.10.9"
  }
 },
 "nbformat": 4,
 "nbformat_minor": 5
}
